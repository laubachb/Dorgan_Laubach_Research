{
 "cells": [
  {
   "cell_type": "markdown",
   "id": "cafa9660",
   "metadata": {},
   "source": [
    "# Spectrometer Project"
   ]
  },
  {
   "cell_type": "code",
   "execution_count": 1,
   "id": "1164e9d7",
   "metadata": {},
   "outputs": [],
   "source": [
    "# Data loading\n",
    "import pandas as pd\n",
    "import matplotlib.pyplot as plt\n",
    "import numpy as np\n",
    "import os\n",
    "\n",
    "# Machine Learning\n",
    "from sklearn.model_selection import train_test_split\n",
    "from sklearn.linear_model import LogisticRegression\n",
    "\n",
    "# Validation of model\n",
    "from sklearn.metrics import accuracy_score\n",
    "from sklearn.metrics import mean_squared_error, r2_score, mean_absolute_error\n",
    "from sklearn.metrics import confusion_matrix\n",
    "import seaborn as sns"
   ]
  },
  {
   "cell_type": "markdown",
   "id": "ce18ff1c",
   "metadata": {},
   "source": [
    "# Load in Data"
   ]
  },
  {
   "cell_type": "code",
   "execution_count": 2,
   "id": "7ea2b8f3",
   "metadata": {},
   "outputs": [
    {
     "name": "stdout",
     "output_type": "stream",
     "text": [
      "(77, 228, 2)\n",
      "(77,)\n"
     ]
    }
   ],
   "source": [
    "# Establish file paths\n",
    "hdpe_path = \"/home/laubachb/Dorgan/Data/HDPE\"\n",
    "ldpe_path = \"/home/laubachb/Dorgan/Data/LDPE\"\n",
    "lldpe_path = \"/home/laubachb/Dorgan/Data/LLDPE\"\n",
    "pp_path = \"/home/laubachb/Dorgan/Data/PP\"\n",
    "\n",
    "# get a list of all CSV files in the directory\n",
    "hdpe_csv_files = [f for f in os.listdir(hdpe_path) if f.endswith('.csv')]\n",
    "ldpe_csv_files = [f for f in os.listdir(ldpe_path) if f.endswith('.csv')]\n",
    "lldpe_csv_files = [f for f in os.listdir(lldpe_path) if f.endswith('.csv')]\n",
    "pp_csv_files = [f for f in os.listdir(pp_path) if f.endswith('.csv')]\n",
    "\n",
    "# Create master list of csv files\n",
    "csv_files = [hdpe_csv_files, ldpe_csv_files, lldpe_csv_files, pp_csv_files]\n",
    "# Create path list for data\n",
    "path = [hdpe_path, ldpe_path, lldpe_path, pp_path]\n",
    "\n",
    "# create an empty list to store dataframes\n",
    "master_list = [[],[],[],[]]\n",
    "\n",
    "# loop through each CSV file and load it as a dataframe\n",
    "i = 0\n",
    "# Iterate through each of the four directories\n",
    "for ele in csv_files:\n",
    "    # Iterate through each of the files within the directory\n",
    "    for file in ele:\n",
    "        file_path = os.path.join(path[i], file)\n",
    "        df = pd.read_csv(file_path)\n",
    "        df = df.iloc[27:, 2:4] # Pull only the data portion\n",
    "        new_headers = df.iloc[0]\n",
    "        df = df[1:]\n",
    "        df = df.rename(columns=new_headers)\n",
    "        df.dropna()\n",
    "        master_list[i].append(df)\n",
    "    i+=1\n",
    "\n",
    "# Create labels for the dataset\n",
    "label_list = []\n",
    "for j in range(4):\n",
    "    label_list.append(np.full(np.asarray(master_list[j]).shape[0], j+1))\n",
    "    \n",
    "# Obtain the y data\n",
    "y = np.concatenate(label_list, axis=0)\n",
    "\n",
    "# Combine the master list such that its comprised of only images (not 4 lists)\n",
    "x = []\n",
    "for sublist in master_list:\n",
    "    x.extend(sublist)\n",
    "x = np.array(x)\n",
    "\n",
    "# Confirm the shapes of x and y\n",
    "print(np.shape(x))\n",
    "print(np.shape(y))"
   ]
  },
  {
   "cell_type": "markdown",
   "id": "459aa6be",
   "metadata": {},
   "source": [
    "# Classification"
   ]
  },
  {
   "cell_type": "code",
   "execution_count": 3,
   "id": "321cf37c",
   "metadata": {},
   "outputs": [
    {
     "name": "stdout",
     "output_type": "stream",
     "text": [
      "Accuracy: 1.0\n",
      "Mean Squared Error:  0.0\n",
      "R-squared:  1.0\n",
      "Mean Absolute Error:  0.0\n"
     ]
    }
   ],
   "source": [
    "# get the number of samples\n",
    "n_samples = x.shape[0]\n",
    "\n",
    "# create an array of indices\n",
    "indices = np.arange(n_samples)\n",
    "\n",
    "# split the indices into training and testing sets\n",
    "train_indices, test_indices = train_test_split(indices, test_size=0.3)\n",
    "\n",
    "# use the indices to split X and y\n",
    "X_train = x[train_indices]\n",
    "X_test = x[test_indices]\n",
    "y_train = y[train_indices]\n",
    "y_test = y[test_indices]\n",
    "\n",
    "# flatten the images to create a feature matrix of shape (N, 684)\n",
    "X_train_flat = X_train.reshape(X_train.shape[0], -1)\n",
    "X_test_flat = X_test.reshape(X_test.shape[0], -1)\n",
    "\n",
    "# train a logistic regression model on the flattened feature matrix\n",
    "clf = LogisticRegression(random_state=0, multi_class='multinomial', solver='newton-cg', max_iter=1000)\n",
    "clf.fit(X_train_flat, y_train)\n",
    "\n",
    "# evaluate the model on the testing set\n",
    "y_pred = clf.predict(X_test_flat)\n",
    "acc = accuracy_score(y_test, y_pred)\n",
    "print(\"Accuracy:\", acc)\n",
    "\n",
    "# Calculate metrics\n",
    "mse = mean_squared_error(y_test, y_pred)\n",
    "r2 = r2_score(y_test, y_pred)\n",
    "mae = mean_absolute_error(y_test, y_pred)\n",
    "\n",
    "# Print the results\n",
    "print(\"Mean Squared Error: \", mse)\n",
    "print(\"R-squared: \", r2)\n",
    "print(\"Mean Absolute Error: \", mae)\n"
   ]
  },
  {
   "cell_type": "code",
   "execution_count": 4,
   "id": "e23d14ec",
   "metadata": {},
   "outputs": [
    {
     "data": {
      "image/png": "[encoded data removed]",
      "text/plain": [
       "<Figure size 432x288 with 1 Axes>"
      ]
     },
     "metadata": {
      "needs_background": "light"
     },
     "output_type": "display_data"
    }
   ],
   "source": [
    "# scatter plot of actual vs predicted values\n",
    "plt.scatter(y_test, y_pred)\n",
    "plt.plot([min(y_test), max(y_test)], [min(y_test), max(y_test)], 'k--', lw=4)\n",
    "plt.xlabel('Actual')\n",
    "plt.ylabel('Predicted')\n",
    "plt.title('Actual vs Predicted (MSE={:.2f}, MAE={:.2f})'.format(mse, mae))\n",
    "plt.show()\n"
   ]
  },
  {
   "cell_type": "code",
   "execution_count": 5,
   "id": "a9fef247",
   "metadata": {},
   "outputs": [
    {
     "data": {
      "image/png": "[encoded data removed]",
      "text/plain": [
       "<Figure size 432x288 with 1 Axes>"
      ]
     },
     "metadata": {
      "needs_background": "light"
     },
     "output_type": "display_data"
    }
   ],
   "source": [
    "# scatter plot of actual vs residuals\n",
    "residuals = y_test - y_pred\n",
    "plt.scatter(y_test, residuals)\n",
    "plt.axhline(y=0, color='r', linestyle='--')\n",
    "plt.xlabel('Actual')\n",
    "plt.ylabel('Residuals')\n",
    "plt.title('Actual vs Residuals (R2={:.2f})'.format(r2))\n",
    "plt.show()"
   ]
  },
  {
   "cell_type": "code",
   "execution_count": 6,
   "id": "f38b7b8e",
   "metadata": {},
   "outputs": [
    {
     "data": {
      "image/png": "[encoded data removed]",
      "text/plain": [
       "<Figure size 432x288 with 2 Axes>"
      ]
     },
     "metadata": {
      "needs_background": "light"
     },
     "output_type": "display_data"
    }
   ],
   "source": [
    "# confusion matrix\n",
    "cm = confusion_matrix(y_test, y_pred)\n",
    "sns.heatmap(cm, annot=True, fmt='d', cmap='Blues')\n",
    "plt.xlabel('Predicted')\n",
    "plt.ylabel('Actual')\n",
    "plt.title('Confusion Matrix')\n",
    "plt.show()\n"
   ]
  }
 ],
 "metadata": {
  "kernelspec": {
   "display_name": "Python 3",
   "language": "python",
   "name": "python3"
  },
  "language_info": {
   "codemirror_mode": {
    "name": "ipython",
    "version": 3
   },
   "file_extension": ".py",
   "mimetype": "text/x-python",
   "name": "python",
   "nbconvert_exporter": "python",
   "pygments_lexer": "ipython3",
   "version": "3.8.8"
  }
 },
 "nbformat": 4,
 "nbformat_minor": 5
}
